{
 "cells": [
  {
   "cell_type": "markdown",
   "metadata": {},
   "source": [
    "<center>\n",
    "    <img src=\"https://cf-courses-data.s3.us.cloud-object-storage.appdomain.cloud/IBMDeveloperSkillsNetwork-DS0105EN-SkillsNetwork/labs/Module2/images/SN_web_lightmode.png\" width=\"300\" alt=\"cognitiveclass.ai logo\">\n",
    "</center>\n"
   ]
  },
  {
   "cell_type": "markdown",
   "metadata": {},
   "source": [
    "#### Add your code below following the instructions given in the course\n"
   ]
  },
  {
   "metadata": {},
   "cell_type": "code",
   "outputs": [],
   "execution_count": null,
   "source": "'''Exercise 2 - Create a markdown cell with the title of the notebook'''"
  },
  {
   "metadata": {},
   "cell_type": "markdown",
   "source": "# Data Science Tools and Ecosystem"
  },
  {
   "metadata": {},
   "cell_type": "code",
   "outputs": [],
   "execution_count": null,
   "source": "'''Exercise 3 - Create a markdown cell for an introduction'''"
  },
  {
   "metadata": {},
   "cell_type": "markdown",
   "source": [
    "## Introduction\n",
    "In this notebook, Data Science Tools and Ecosystem are summarized."
   ]
  },
  {
   "metadata": {},
   "cell_type": "code",
   "outputs": [],
   "execution_count": null,
   "source": "'''Exercise 10 - Insert a markdown cell to list Objectives'''"
  },
  {
   "metadata": {},
   "cell_type": "markdown",
   "source": [
    "## Objectives:\n",
    "\n",
    "- **List popular languages for Data Science**\n",
    "- **List some common libraries for Data Science**\n",
    "- **Introduce development environment tools for Data Science**\n",
    "- **Provide examples of arithmetic expressions in Python**- \n",
    "- **Showcase the evaluation of arithmetic expressions in Python**\n",
    "- **Demonstrate how to convert units (e.g., minutes to hours) in Python**"
   ]
  },
  {
   "metadata": {},
   "cell_type": "code",
   "outputs": [],
   "execution_count": null,
   "source": "'''Exercise 4 - Create a markdown cell to list data science languages'''"
  },
  {
   "metadata": {},
   "cell_type": "markdown",
   "source": [
    "### Data Science Languages\n",
    "\n",
    "Some of the popular languages that Data Scientists use are:\n",
    "\n",
    "1. Python\n",
    "2. R\n",
    "3. SQL\n",
    "4. Java\n",
    "5. Scala\n",
    "6. C++\n",
    "7. Julia\n",
    "8. JavaScript"
   ]
  },
  {
   "metadata": {},
   "cell_type": "code",
   "outputs": [],
   "execution_count": null,
   "source": "'''Exercise 5 - Create a markdown cell to list data science libraries'''"
  },
  {
   "metadata": {},
   "cell_type": "markdown",
   "source": [
    "### Data Science Libraries\n",
    "\n",
    "Some of the commonly used libraries used by Data Scientists include:\n",
    "\n",
    "1. Pandas and NumPy, as Scientific Computing libraries\n",
    "2. Matplotlib and Seaborn, as Visualization libraries\n",
    "3. Scikit-learn and Keras, as Machine Learning and Deep Learning\n",
    "4. TensorFlow and PyTorch, as Deep Learning libraries"
   ]
  },
  {
   "metadata": {},
   "cell_type": "code",
   "source": "'''Exercise 6 - Create a markdown cell with a table of Data Science tools'''",
   "outputs": [],
   "execution_count": null
  },
  {
   "metadata": {},
   "cell_type": "markdown",
   "source": [
    "| Data Science Tools      |\n",
    "|-------------------------|\n",
    "| Jupyter Notebook        |\n",
    "| RStudio                 |\n",
    "| Apache Zeppelin         |\n",
    "| Visual Studio Code      |\n",
    "| Spyder                  |\n",
    "| Google Colab            |\n",
    "\n",
    "* The list include development environment open source tools used in data science. "
   ]
  },
  {
   "metadata": {},
   "cell_type": "code",
   "outputs": [],
   "execution_count": null,
   "source": "'''Exercise 7 - Create a markdown cell introducing arithmetic expression examples'''"
  },
  {
   "metadata": {},
   "cell_type": "markdown",
   "source": [
    "### Below are a few examples of evaluating arithmetic expressions in Python\n",
    "\n",
    "1. **Addition (+)**\n",
    "    ```python\n",
    "    result = 3 + 5\n",
    "    print(result)  # Output: 8\n",
    "    ```\n",
    "\n",
    "2. **Subtraction (-)**\n",
    "    ```python\n",
    "    result = 10 - 4\n",
    "    print(result)  # Output: 6\n",
    "    ```\n",
    "\n",
    "3. **Multiplication (*)**\n",
    "    ```python\n",
    "    result = 7 * 6\n",
    "    print(result)  # Output: 42\n",
    "    ```\n",
    "\n",
    "4. **Division (/)**\n",
    "    ```python\n",
    "    result = 20 / 4\n",
    "    print(result)  # Output: 5.0\n",
    "    ```\n",
    "\n",
    "5. **Exponentiation (**)**\n",
    "    ```python\n",
    "    result = 2 ** 3\n",
    "    print(result)  # Output: 8\n",
    "    ```\n",
    "\n",
    "6. **Modulus (%)**\n",
    "    ```python\n",
    "    result = 10 % 3\n",
    "    print(result)  # Output: 1\n",
    "    ```"
   ]
  },
  {
   "metadata": {},
   "cell_type": "code",
   "outputs": [],
   "execution_count": null,
   "source": "'''Exercise 8 - Create a code cell to multiply and add numbers'''"
  },
  {
   "metadata": {
    "ExecuteTime": {
     "end_time": "2024-06-18T13:59:38.743300Z",
     "start_time": "2024-06-18T13:59:38.735218Z"
    }
   },
   "cell_type": "code",
   "source": [
    "# This is a simple arithmetic expression to multiply then add integers.\n",
    "result = (3 * 4) + 5\n",
    "print(result)  # Output: 17"
   ],
   "outputs": [
    {
     "name": "stdout",
     "output_type": "stream",
     "text": [
      "17\n"
     ]
    }
   ],
   "execution_count": 3
  },
  {
   "metadata": {},
   "cell_type": "code",
   "outputs": [],
   "execution_count": null,
   "source": "'''Exercise 9 - Create a code cell to convert minutes to hours'''"
  },
  {
   "metadata": {
    "ExecuteTime": {
     "end_time": "2024-06-18T14:00:30.609849Z",
     "start_time": "2024-06-18T14:00:30.594340Z"
    }
   },
   "cell_type": "code",
   "source": [
    "# This will convert 200 minutes to hours by dividing by 60.\n",
    "minutes = 200\n",
    "hours = minutes / 60\n",
    "print(hours)  # Output: 3.3333333333333335"
   ],
   "outputs": [
    {
     "name": "stdout",
     "output_type": "stream",
     "text": [
      "3.3333333333333335\n"
     ]
    }
   ],
   "execution_count": 4
  },
  {
   "metadata": {},
   "cell_type": "code",
   "outputs": [],
   "execution_count": null,
   "source": "'''Exercise 10 - Insert a markdown cell to list Objectives'''"
  },
  {
   "metadata": {},
   "cell_type": "code",
   "outputs": [],
   "execution_count": null,
   "source": "'''Exercise 11 - Create a markdown cell to indicate the Author's name'''"
  },
  {
   "metadata": {},
   "cell_type": "markdown",
   "source": [
    "## Author\n",
    "Alba Prats-Bisbe"
   ]
  },
  {
   "metadata": {},
   "cell_type": "markdown",
   "source": ""
  },
  {
   "metadata": {},
   "cell_type": "markdown",
   "source": ""
  }
 ],
 "metadata": {
  "kernelspec": {
   "display_name": "Python 3 (ipykernel)",
   "language": "python",
   "name": "python3"
  },
  "language_info": {
   "name": ""
  }
 },
 "nbformat": 4,
 "nbformat_minor": 4
}
